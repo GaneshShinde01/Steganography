{
 "cells": [
  {
   "cell_type": "markdown",
   "metadata": {},
   "source": [
    "# 🔐 Image Steganography using LSB + XOR Encryption\n",
    "This notebook demonstrates how to hide and retrieve secret messages in images using **Least Significant Bit (LSB)** steganography combined with **XOR-based encryption**."
   ]
  },
  {
   "cell_type": "code",
   "execution_count": null,
   "metadata": {},
   "outputs": [],
   "source": [
    "import cv2\n",
    "import numpy as np\n",
    "\n",
    "# ===== Helper Functions =====\n",
    "def xor_encrypt(message, key):\n",
    "    key = [ord(k) for k in key]\n",
    "    return [ord(m) ^ key[i % len(key)] for i, m in enumerate(message + '~')]  # '~' as EOF marker\n",
    "\n",
    "def xor_decrypt(image_path, key):\n",
    "    img = cv2.imread(image_path)\n",
    "    decrypt = \"\"\n",
    "    n = m = z = kl = 0\n",
    "    key = [ord(k) for k in key]\n",
    "\n",
    "    for i in range(img.shape[0]):\n",
    "        for j in range(img.shape[1]):\n",
    "            for c in range(3):\n",
    "                val = img[i, j][c]\n",
    "                xor_val = val ^ key[kl]\n",
    "                char = chr(xor_val)\n",
    "                print(f\"Decrypting pixel ({n},{m},{z}): {val} XOR {key[kl]} = {xor_val} -> '{char}'\")\n",
    "                if char == '~':\n",
    "                    print(\"\\nDecrypted message:\", decrypt)\n",
    "                    return decrypt\n",
    "                decrypt += char\n",
    "                n += 1\n",
    "                m = (m + 1) % 3\n",
    "                z = (z + 1) % 3\n",
    "                kl = (kl + 1) % len(key)\n",
    "    print(\"\\nDecrypted message:\", decrypt)\n",
    "    return decrypt"
   ]
  },
  {
   "cell_type": "code",
   "execution_count": null,
   "metadata": {},
   "outputs": [],
   "source": [
    "def embed_encrypted_data(image_path, output_path, message, key):\n",
    "    encrypted = xor_encrypt(message, key)\n",
    "    img = cv2.imread(image_path)\n",
    "    flat_img = img.flatten()\n",
    "    bin_data = ''.join(format(byte, '08b') for byte in encrypted)\n",
    "    \n",
    "    if len(bin_data) > len(flat_img):\n",
    "        raise ValueError(\"Message too large to hide in this image.\")\n",
    "\n",
    "    for i in range(len(bin_data)):\n",
    "        flat_img[i] = (flat_img[i] & ~1) | int(bin_data[i])\n",
    "\n",
    "    stego_img = flat_img.reshape(img.shape)\n",
    "    cv2.imwrite(output_path, stego_img)\n",
    "    print(f\"Message embedded in: {output_path}\")"
   ]
  },
  {
   "cell_type": "code",
   "execution_count": null,
   "metadata": {},
   "outputs": [],
   "source": [
    "# === Example Usage ===\n",
    "# 1. To embed:\n",
    "# embed_encrypted_data('input.png', 'stego.png', 'secret', 'key123')\n",
    "\n",
    "# 2. To decode:\n",
    "# xor_decrypt('stego.png', 'key123')"
   ]
  }
 ],
 "metadata": {
  "kernelspec": {
   "display_name": "Python 3",
   "language": "python",
   "name": "python3"
  },
  "language_info": {
   "name": "python",
   "version": "3.8"
  }
 },
 "nbformat": 4,
 "nbformat_minor": 5
}
